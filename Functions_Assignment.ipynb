{
 "cells": [
  {
   "cell_type": "markdown",
   "id": "3beaa9b9-be38-49ce-983e-0ef6b62e753d",
   "metadata": {},
   "source": [
    "                                        '''''''''''''''   Theory'''''''''''''''   "
   ]
  },
  {
   "cell_type": "markdown",
   "id": "5ae69c69-40dd-4430-a402-0a2e503c3317",
   "metadata": {},
   "source": [
    "Q1) What is the difference between a function and a method in Python?\n",
    "\n",
    "Ans) In Python, both functions and methods are callable objects that perform specific tasks, but there are key differences between them:\n",
    "\n",
    "1. Function:\n",
    "A function is a block of code that can be reused and executed by calling it by its name.\n",
    "It is defined using the def keyword.\n",
    "Functions can exist independently of any class or object.\n",
    "They can accept parameters (arguments) and return a value using the return statement.\n",
    "\n",
    "2. Method:\n",
    "A method is a function that is associated with an object or a class.\n",
    "Methods are defined inside a class, and they implicitly operate on the object (or instance) to which they belong.\n",
    "Methods are called using the object or class they are associated with.\n",
    "They often take self as the first parameter (in instance methods) to refer to the object calling the method."
   ]
  },
  {
   "cell_type": "code",
   "execution_count": 2,
   "id": "65f999a0-0d67-454b-80b6-3238e309c008",
   "metadata": {},
   "outputs": [
    {
     "name": "stdout",
     "output_type": "stream",
     "text": [
      "8\n",
      "8\n"
     ]
    }
   ],
   "source": [
    "# Example of function:\n",
    "\n",
    "def add(a, b):\n",
    "    return a + b\n",
    "\n",
    "result = add(5, 3)\n",
    "print(result)\n",
    "# add is a function that adds two numbers and returns the result.\n",
    "\n",
    "# Example of method:\n",
    "\n",
    "class Calculator:\n",
    "    def add(self, a, b):\n",
    "        return a + b\n",
    "\n",
    "calc = Calculator()\n",
    "result = calc.add(5, 3)\n",
    "print(result) \n",
    "# add is a method because it belongs to the Calculator class and is called using an instance of that class (calc).\n"
   ]
  },
  {
   "cell_type": "markdown",
   "id": "d87cd57c-3429-4d2e-b1e4-e4f513f8b629",
   "metadata": {},
   "source": [
    "Q2) Explain the concept of function arguments and parameters in Python.\n",
    "\n",
    "Ans)  parameters and arguments refer to the inputs we pass into functions to perform operations. While the two terms are often used interchangeably, they have distinct meanings depending on the context: \n",
    "\n",
    "1. Parameters:\n",
    "Definition: Parameters are the variables that appear in the function definition. They act as placeholders for the values (arguments) that will be provided when the function is called.\n",
    "Parameters define what values the function expects.\n",
    "\n",
    "3. Arguments:\n",
    "Definition: Arguments are the actual values provided to the function when it is called. These values are assigned to the corresponding parameters.\n",
    "They are passed to the function during the function call.\n",
    "\n",
    "Types of Arguments and Parameters\n",
    "\n",
    "1. Positional Arguments:\n",
    "These are arguments that are assigned to parameters in the order they are provided.\n",
    "The order of arguments matters.\n",
    "\n",
    "2. Keyword Arguments:\n",
    "Keyword arguments are provided with the parameter name explicitly, allowing you to pass arguments in any order.\n",
    "The order does not matter when you use the parameter name.\n",
    "\n",
    "3. Default Parameters:\n",
    "Parameters can have default values. If an argument is not provided for that parameter, the default value is used.\n",
    "\n",
    "4. Variable-Length Arguments:\n",
    "You can pass a varying number of arguments to a function using *args (for positional arguments) or **kwargs (for keyword arguments)."
   ]
  },
  {
   "cell_type": "code",
   "execution_count": 4,
   "id": "1e6a8071-713d-4a6f-b8c3-1cfebe5a8d42",
   "metadata": {},
   "outputs": [
    {
     "name": "stdout",
     "output_type": "stream",
     "text": [
      "5\n",
      "5\n",
      "Hello, Guest!\n",
      "Hello, Alice!\n",
      "6\n",
      "30\n",
      "name: Alice\n",
      "age: 25\n"
     ]
    }
   ],
   "source": [
    "# Example of Positional Argument:\n",
    "def subtract(a, b):\n",
    "    return a - b\n",
    "\n",
    "result = subtract(10, 5)  # a = 10, b = 5\n",
    "print(result)\n",
    "\n",
    "# Example of Keyword Argument:\n",
    "def subtract(a, b):\n",
    "    return a - b\n",
    "\n",
    "result = subtract(b=5, a=10)  # Explicitly naming the arguments\n",
    "print(result)\n",
    "\n",
    "# Example of Default Parameters:\n",
    "def greet(name=\"Guest\"):\n",
    "    print(f\"Hello, {name}!\")\n",
    "\n",
    "greet()\n",
    "greet(\"Alice\")\n",
    "\n",
    "\n",
    "# Example of Variable-Length Arguments:\n",
    "# with *args:\n",
    "def sum_all(*args):\n",
    "    return sum(args)\n",
    "\n",
    "print(sum_all(1, 2, 3))\n",
    "print(sum_all(10, 20))\n",
    "\n",
    "# with **Kwargs:\n",
    "def display_info(**kwargs):\n",
    "    for key, value in kwargs.items():\n",
    "        print(f\"{key}: {value}\")\n",
    "\n",
    "display_info(name=\"Alice\", age=25)"
   ]
  },
  {
   "cell_type": "markdown",
   "id": "88ad67a0-b473-4d9a-bc56-a153846b07f5",
   "metadata": {},
   "source": [
    "Q3) What are the different ways to define and call a function in Python?\n",
    "\n",
    "Ans) functions can be defined and called in several ways depending on the use case. Here's an overview of the different methods to define and call functions:\n",
    "\n",
    "1. Regular Function Definition\n",
    "Definition: Defined using the def keyword, followed by the function name and parameters (if any).\n",
    "Call: Called by using the function name and passing arguments if required.\n",
    "\n",
    "2. Function with Default Parameters\n",
    "Definition: You can define default values for parameters, which are used if no arguments are passed.\n",
    "Call: Can be called with or without arguments for default parameters.\n",
    "\n",
    "3. Lambda (Anonymous) Functions\n",
    "Definition: Defined using the lambda keyword for simple, single-line functions without a def statement. These are often used as anonymous functions.\n",
    "Call: Lambda functions are called immediately or assigned to a variable.\n",
    "\n",
    "4. Functions with Variable-Length Arguments (*args and **kwargs)\n",
    "Definition: You can define functions to accept a variable number of positional arguments using *args and keyword arguments using **kwargs.\n",
    "Call: Call with any number of positional or keyword arguments.\n",
    "\n",
    "5. Nested Functions\n",
    "Definition: A function defined inside another function. Useful for creating helper functions scoped to the outer function.\n",
    "Call: Can be called only within the outer function unless returned explicitly.\n",
    "\n",
    "6. Recursive Functions\n",
    "Definition: A function that calls itself to solve a problem incrementally. It must have a base case to avoid infinite recursion.\n",
    "Call: Called normally, but the function continues calling itself until the base case is reached.\n",
    "\n",
    "7. Higher-Order Functions\n",
    "Definition: Functions that either accept other functions as arguments or return functions as results.\n",
    "Call: These functions can be called by passing other functions as arguments."
   ]
  },
  {
   "cell_type": "markdown",
   "id": "d8f76a37-59fb-4eb9-a780-60c7126fbee5",
   "metadata": {},
   "source": [
    "Q4)  What is the purpose of the `return` statement in a Python function?\n",
    "\n",
    "Ans) The return statement in a Python function serves the following key purposes:\n",
    "\n",
    "1. Return a Value to the Caller\n",
    "The primary purpose of the return statement is to send a value back to the code that called the function. It allows the function to produce a result that can be used elsewhere in the program.\n",
    "Without a return statement, a function will return None by default.\n",
    "\n",
    " Exit a Function\n",
    "The return statement also serves to terminate the function's execution. Once a return statement is encountered, the function stops, and any code after it will not be executed.\n",
    "\n",
    "3. Multiple Return Statements\n",
    "A function can have multiple return statements, typically used in conditions to return different values based on certain criteria. Once one return is executed, the function ends.\n",
    "\n",
    "4. Returning Multiple Values\n",
    "Python allows returning multiple values using a single return statement. These values are returned as a tuple, which can be unpacked by the caller."
   ]
  },
  {
   "cell_type": "markdown",
   "id": "807d6e51-382a-4e99-a33d-3678b999d1fd",
   "metadata": {},
   "source": [
    "Q5)  What are iterators in Python and how do they differ from iterables?\n",
    "\n",
    "Ans) In Python, iterators and iterables are two related concepts that are fundamental to looping through collections of data. Here's an explanation of both and how they differ:\n",
    "\n",
    "1. Iterables:\n",
    "\n",
    "Definition: An iterable is any Python object that can return its elements one at a time. It is an object capable of being iterated over using a loop (like for loops) or other iteration mechanisms.\n",
    "\n",
    "Examples of iterables: Lists, tuples, strings, dictionaries, sets, and custom objects that define the __iter__() method.\n",
    "\n",
    "Key Point: An iterable does not produce its elements by itself but provides a mechanism to get an iterator to generate the elements.\n",
    "\n",
    "How it works: An iterable must implement the __iter__() method, which returns an iterator.\n",
    "\n",
    "2. Iterators:\n",
    "\n",
    "Definition: An iterator is an object that represents a stream of data. It produces the next value each time you ask for it until there are no more values.\n",
    "\n",
    "How it works: Iterators implement two methods:\n",
    "\n",
    "__iter__() – returns the iterator object itself.\n",
    "\n",
    "__next__() – returns the next element in the sequence. If there are no more elements, it raises the StopIteration exception.\n",
    "\n",
    "Key Point: An iterator can only move forward, one element at a time. Once the elements are exhausted, the iterator can't restart unless you create a new iterator."
   ]
  },
  {
   "cell_type": "markdown",
   "id": "5151ae02-42d2-4255-a23a-d72e3d69a999",
   "metadata": {},
   "source": [
    "Q6)  Explain the concept of generators in Python and how they are defined.\n",
    "\n",
    "Ans) Generators are a special type of iterator in Python, designed to generate values on the fly (lazily) rather than storing them all at once in memory. This makes them highly memory efficient, especially when dealing with large datasets.\n",
    "\n",
    "Generators are defined using generator functions or generator expressions, and they allow you to iterate over data in a similar way to iterators, but with a more concise and readable syntax.\n",
    "\n",
    "1. Generator Functions\n",
    "A generator function is a function that behaves like an iterator. Instead of returning values using return, it uses the yield statement to produce a series of values lazily, one at a time, pausing between each yield until the next value is requested.\n",
    "\n",
    "How it works: Each time a generator's __next__() method is called, it runs until it reaches the yield statement, pauses, and returns the yielded value. The state of the function, including variable values and the point where execution stopped, is saved so that the function can resume when the next value is requested.\n",
    "\n",
    "Definition: Defined like a normal function using def, but uses yield to produce values.\n",
    "\n",
    "2. Generator Expressions\n",
    "Definition: Generator expressions are a more concise way to create generators, similar to list comprehensions but using parentheses () instead of square brackets []. They produce values lazily like generator functions.\n",
    "\n",
    "Characteristics of Generators\n",
    "Lazy Evaluation: Generators yield one value at a time, only when requested. This avoids loading all data into memory at once, making them efficient for large datasets.\n",
    "\n",
    "State Retention: A generator function remembers its last execution state (i.e., where it left off after yielding a value) and can resume from that point when the next value is requested.\n",
    "\n",
    "One-time Iteration: Generators can only be iterated over once. Once all values are generated, they cannot be reused unless a new generator is created.\n",
    "\n",
    "Infinite Sequences: Generators are well-suited for generating infinite sequences because they compute values lazily and stop when instructed."
   ]
  },
  {
   "cell_type": "markdown",
   "id": "18e3ac05-3fe8-4a5d-9c94-029a9f760a5b",
   "metadata": {},
   "source": [
    "Q7) What are the advantages of using generators over regular functions?\n",
    "\n",
    "Ans) Generators offer several advantages over regular functions, especially when dealing with large datasets or streams of data. Here are the key benefits:\n",
    "\n",
    "1. Memory Efficiency\n",
    "Generators produce values lazily, generating one value at a time instead of storing the entire sequence in memory. This is ideal for working with large datasets or infinite sequences.\n",
    "Regular functions that return lists or other collections store all the values in memory, which can be inefficient for large datasets.\n",
    "2. Faster Execution (for large datasets)\n",
    "Generators start producing values immediately without waiting to generate or store the entire dataset, which can speed up execution for large data.\n",
    "3. State Retention\n",
    "Generators maintain their local state between successive calls to next(), allowing them to resume where they left off without re-executing the entire function.\n",
    "4. Suitability for Infinite Sequences\n",
    "Generators can be used to model infinite sequences (e.g., numbers, data streams) without causing memory overflow, since they generate values as needed.\n",
    "5. Simpler Code for Iteration\n",
    "The yield statement in generators allows for writing cleaner, more readable code to produce sequences, compared to managing an explicit list or loop in regular functions."
   ]
  },
  {
   "cell_type": "markdown",
   "id": "085de902-df88-4f2a-b3dd-6a2f828726c9",
   "metadata": {},
   "source": [
    "Q8) What is a lambda function in Python and when is it typically used?\n",
    "\n",
    "Ans) A lambda function in Python is an anonymous, one-liner function defined using the lambda keyword. Unlike regular functions, it does not need a def keyword or a function name. Syntax: lambda arguments: expression\n",
    "It can take any number of arguments but has only one expression, which is evaluated and returned.\n",
    "\n",
    "When to Use Lambda Functions:\n",
    "Short, simple operations: They are typically used for quick, small functions that are not reused later, like sorting or filtering.\n",
    "\n",
    "Used with functions like map(), filter(), and sorted(): They are commonly used as arguments to higher-order functions where a small, throwaway function is needed."
   ]
  },
  {
   "cell_type": "markdown",
   "id": "a88bff7b-322f-4375-8093-305633c5a269",
   "metadata": {},
   "source": [
    "Q9) Explain the purpose and usage of the `map()` function in Python.\n",
    "\n",
    "Ans) The map() function in Python is a built-in higher-order function that applies a specified function to every item in an iterable (like a list or a tuple) and returns an iterator yielding the results.\n",
    "\n",
    "Purpose:\n",
    "Transformation: The primary purpose of map() is to transform the items of an iterable by applying a function to each item.\n",
    "\n",
    "Efficiency: It is often more efficient than using a loop for transforming lists, as it operates in a more concise and functional programming style.\n",
    "Syntax: (function, iterable, ...)\n",
    "\n",
    "function: A function that takes one or more arguments and returns a value.\n",
    "\n",
    "iterable: One or more iterables (like lists, tuples, etc.) whose elements will be passed to the function.\n",
    "\n",
    "Multiple Iterables: You can pass multiple iterables to map(), and the function must take as many arguments as there are iterables.\n",
    "\n",
    "Return Type: map() returns a map object (an iterator), which can be converted to a list, tuple, or any other iterable type."
   ]
  },
  {
   "cell_type": "markdown",
   "id": "e6698ae9-c36c-49e4-8146-8bdca26278df",
   "metadata": {},
   "source": [
    "Q10) What is the difference between `map()`, `reduce()`, and `filter()` functions in Python?\n",
    "\n",
    "Ans) The map(), reduce(), and filter() functions in Python are all higher-order functions that operate on iterables, but they serve different purposes. Here’s a concise explanation of each:\n",
    "\n",
    "1. map()\n",
    "Purpose: Applies a specified function to every item in an iterable and returns an iterator of the results.\n",
    "\n",
    "Usage: Used for transforming data by applying a function to each element.\n",
    "\n",
    "2. filter()\n",
    "Purpose: Applies a specified function to each item in an iterable and returns an iterator containing only the elements for which the function returns True.\n",
    "\n",
    "Usage: Used for filtering data by including only elements that satisfy a certain condition.\n",
    "\n",
    "3. reduce()\n",
    "Purpose: Applies a specified function cumulatively to the items of an iterable, reducing it to a single value.\n",
    "\n",
    "Usage: Used for aggregating data, such as summing or multiplying all elements together."
   ]
  },
  {
   "cell_type": "markdown",
   "id": "5fc9d220-2f7e-444f-b4c9-cb0723d264c2",
   "metadata": {},
   "source": [
    "11)  Using pen & Paper write the internal mechanism for sum operation using  reduce function on this given\n",
    "list:[47,11,42,13];\n",
    "\n",
    "Ans) Given in doc file."
   ]
  },
  {
   "cell_type": "markdown",
   "id": "4c832c36-d980-4ae8-b7e0-8317615feae4",
   "metadata": {},
   "source": [
    "                  '''''''''''''''''''''   Practical Questions   '''''''''''''''''''''"
   ]
  },
  {
   "cell_type": "markdown",
   "id": "4094332c-2084-4161-b366-97f98b5bcba8",
   "metadata": {},
   "source": [
    "Q1) Write a Python function that takes a list of numbers as input and returns the sum of all even numbers in the list.\n",
    "\n",
    "Ans) "
   ]
  },
  {
   "cell_type": "code",
   "execution_count": 29,
   "id": "245c5ded-f6a2-465c-9165-ee0d5f1ad1d9",
   "metadata": {},
   "outputs": [
    {
     "name": "stdout",
     "output_type": "stream",
     "text": [
      "12\n"
     ]
    }
   ],
   "source": [
    "def sum_even_numbers(numbers):\n",
    "    return sum(filter(lambda x: x % 2 == 0, numbers))\n",
    "\n",
    "numbers = [1, 2, 3, 4, 5, 6]\n",
    "result = sum_even_numbers(numbers)\n",
    "print(result)\n"
   ]
  },
  {
   "cell_type": "markdown",
   "id": "ad8496fa-c4f0-4b00-ba5f-54e59d048da8",
   "metadata": {},
   "source": [
    "Q2) Create a Python function that accepts a string and returns the reverse of that string.\n",
    "\n",
    "Ans) "
   ]
  },
  {
   "cell_type": "code",
   "execution_count": 32,
   "id": "b6d37f7c-353b-46a4-ac74-f351b5d87a46",
   "metadata": {},
   "outputs": [
    {
     "name": "stdout",
     "output_type": "stream",
     "text": [
      "!dlroW ,olleH\n"
     ]
    }
   ],
   "source": [
    "def reverse_string(s):\n",
    "    return s[::-1] \n",
    "\n",
    "input_string = \"Hello, World!\"\n",
    "reversed_string = reverse_string(input_string)\n",
    "print(reversed_string)\n"
   ]
  },
  {
   "cell_type": "markdown",
   "id": "56542942-0481-45dd-a06f-bc1f2aaba06f",
   "metadata": {},
   "source": [
    "Q3) Implement a Python function that takes a list of integers and returns a new list containing the squares of each number.\n",
    "\n",
    "Ans) "
   ]
  },
  {
   "cell_type": "code",
   "execution_count": 35,
   "id": "34152b5a-cfee-451f-b269-f89b905897a2",
   "metadata": {},
   "outputs": [
    {
     "name": "stdout",
     "output_type": "stream",
     "text": [
      "[1, 4, 9, 16, 25]\n"
     ]
    }
   ],
   "source": [
    "def square_numbers(numbers):\n",
    "    return [num ** 2 for num in numbers] \n",
    "\n",
    "input_list = [1, 2, 3, 4, 5]\n",
    "squared_list = square_numbers(input_list)\n",
    "print(squared_list)\n"
   ]
  },
  {
   "cell_type": "markdown",
   "id": "377698fa-61f0-46e3-ad47-c5730076c63a",
   "metadata": {},
   "source": [
    "Q4) Write a Python function that checks if a given number is prime or not from 1 to 200.\n",
    "\n",
    "Ans) "
   ]
  },
  {
   "cell_type": "code",
   "execution_count": 48,
   "id": "8cee8b89-751d-4e1a-a61a-030308300a66",
   "metadata": {},
   "outputs": [
    {
     "name": "stdin",
     "output_type": "stream",
     "text": [
      "Enter a number between 1 and 200:  199\n"
     ]
    },
    {
     "name": "stdout",
     "output_type": "stream",
     "text": [
      "199 is a prime number.\n"
     ]
    }
   ],
   "source": [
    "def is_prime(num):\n",
    "    if num <= 1:\n",
    "        return False\n",
    "    for i in range(2, int(num**0.5) + 1):\n",
    "        if num % i == 0:\n",
    "            return False \n",
    "    return True  \n",
    "def check_user_input():\n",
    "    try:\n",
    "        user_input = int(input(\"Enter a number between 1 and 200: \"))\n",
    "        if 1 <= user_input <= 200:\n",
    "            if is_prime(user_input):\n",
    "                print(f\"{user_input} is a prime number.\")\n",
    "            else:\n",
    "                print(f\"{user_input} is not a prime number.\")\n",
    "        else:\n",
    "            print(\"The number is out of range. Please enter a number between 1 and 200.\")\n",
    "    except ValueError:\n",
    "        print(\"Invalid input! Please enter an integer.\")\n",
    "\n",
    "# Example usage\n",
    "check_user_input()\n"
   ]
  },
  {
   "cell_type": "markdown",
   "id": "039a3020-1a76-4848-8713-3c82359d2533",
   "metadata": {},
   "source": [
    "Q5) Create an iterator class in Python that generates the Fibonacci sequence up to a specified number of terms.\n",
    "\n",
    "Ans) "
   ]
  },
  {
   "cell_type": "code",
   "execution_count": 56,
   "id": "2414acfb-1b75-466e-a442-ed4911be0c26",
   "metadata": {},
   "outputs": [
    {
     "name": "stdout",
     "output_type": "stream",
     "text": [
      "0\n",
      "1\n",
      "1\n",
      "2\n",
      "3\n",
      "5\n",
      "8\n",
      "13\n",
      "21\n",
      "34\n"
     ]
    }
   ],
   "source": [
    "class FibonacciIterator:\n",
    "    def __init__(self, terms):\n",
    "        self.terms = terms  # Total number of terms to generate\n",
    "        self.count = 0      # Counter for the number of terms generated\n",
    "        self.a, self.b = 0, 1  # Initial values for Fibonacci sequence\n",
    "\n",
    "    def __iter__(self):\n",
    "        return self  # The iterator object itself\n",
    "\n",
    "    def __next__(self):\n",
    "        if self.count < self.terms:\n",
    "            current = self.a  # Store the current Fibonacci number\n",
    "            self.a, self.b = self.b, self.a + self.b  # Update values\n",
    "            self.count += 1 \n",
    "            return current\n",
    "        else:\n",
    "            raise StopIteration\n",
    "\n",
    "fibonacci_sequence = FibonacciIterator(10)\n",
    "for num in fibonacci_sequence:\n",
    "    print(num)\n"
   ]
  },
  {
   "cell_type": "markdown",
   "id": "f1e3d811-88d9-4fae-b822-6d843a2df2af",
   "metadata": {},
   "source": [
    "Q6) Write a generator function in Python that yields the powers of 2 up to a given exponent.\n",
    "\n",
    "Ans) "
   ]
  },
  {
   "cell_type": "code",
   "execution_count": 61,
   "id": "c93fbabd-179f-4320-8176-35812223d55c",
   "metadata": {},
   "outputs": [
    {
     "name": "stdout",
     "output_type": "stream",
     "text": [
      "1\n",
      "2\n",
      "4\n",
      "8\n",
      "16\n",
      "32\n"
     ]
    }
   ],
   "source": [
    "def powers_of_two(exponent):\n",
    "    for i in range(exponent + 1):\n",
    "        yield 2 ** i  \n",
    "\n",
    "for power in powers_of_two(5):\n",
    "    print(power) \n"
   ]
  },
  {
   "cell_type": "markdown",
   "id": "b9e86104-31ac-42f4-b80f-3a60371d15b8",
   "metadata": {},
   "source": [
    "Q7) Implement a generator function that reads a file line by line and yields each line as a string.\n",
    "\n",
    "Ans) "
   ]
  },
  {
   "cell_type": "code",
   "execution_count": 2,
   "id": "54548d98-8f50-4f65-a144-097036705fea",
   "metadata": {},
   "outputs": [
    {
     "name": "stdout",
     "output_type": "stream",
     "text": [
      "This is a sample file related to the given question:\n",
      "\n",
      "Implement a generator function that reads a file line by line and yields each line as a string.\n",
      "\n",
      "Artificial Intelligence (AI) refers to the simulation of human intelligence processes by machines, particularly computer systems. It encompasses a range of technologies and methodologies\n",
      "that enable machines to learn from experience, reason, and perform tasks that typically require human intelligence, such as understanding natural language, recognizing patterns,\n",
      "solving problems, and making decisions. AI can be categorized into narrow AI, which is designed for specific tasks (like voice assistants and recommendation systems), and general AI,\n",
      "which aims to perform any intellectual task that a human can do. The rapid advancements in AI are transforming various industries, including healthcare, finance, transportation,\n",
      "and entertainment, by enhancing efficiency and enabling new capabilities. As AI continues to evolve, it raises important ethical considerations regarding privacy, job displacement, and\n",
      "decision-making, prompting ongoing discussions about its role in society and the future of human-machine interaction.\n"
     ]
    }
   ],
   "source": [
    "def read_file_line_by_line(file_path):\n",
    "    try:\n",
    "        with open(r\"D:\\PW_SKILLS\\Modules\\Module_06_Functions_Assignment\\Sample_File\\Sample_File.txt\") as file:  # Open the file in read mode\n",
    "            for line in file:\n",
    "                yield line.strip()  # Yield each line, removing leading/trailing whitespace\n",
    "    except FileNotFoundError:\n",
    "        print(f\"The file at {file_path} was not found.\")\n",
    "    except Exception as e:\n",
    "        print(f\"An error occurred: {e}\")\n",
    "\n",
    "# Example usage\n",
    "file_path = r\"D:\\PW_SKILLS\\Modules\\Module_06_Functions_Assignment\\Sample_File\\Sample_File.txt\"  # Replace with your actual file path\n",
    "for line in read_file_line_by_line(file_path):\n",
    "    print(line)  # Output each line from the file\n"
   ]
  },
  {
   "cell_type": "markdown",
   "id": "1dda0089-1dd9-4172-a875-4b3ea8737066",
   "metadata": {},
   "source": [
    "Q8)  Use a lambda function in Python to sort a list of tuples based on the second element of each tuple.\n",
    "\n",
    "Ans)"
   ]
  },
  {
   "cell_type": "code",
   "execution_count": 5,
   "id": "efa8b7f7-6b42-4bfd-9a1a-82002b0feb04",
   "metadata": {},
   "outputs": [
    {
     "name": "stdout",
     "output_type": "stream",
     "text": [
      "[(1, 'apple'), (3, 'banana'), (4, 'grape'), (2, 'orange')]\n"
     ]
    }
   ],
   "source": [
    "tuples_list = [(1, 'apple'), (3, 'banana'), (2, 'orange'), (4, 'grape')]\n",
    "\n",
    "# Sorting the list based on the second element of each tuple using a lambda function\n",
    "sorted_list = sorted(tuples_list, key=lambda x: x[1])\n",
    "\n",
    "print(sorted_list)\n"
   ]
  },
  {
   "cell_type": "markdown",
   "id": "a620bc28-8e62-4730-98e4-b1b9b1d1e7ad",
   "metadata": {},
   "source": [
    "Q9) Write a Python program that uses `map()` to convert a list of temperatures from Celsius to Fahrenheit.\n",
    "\n",
    "Ans) "
   ]
  },
  {
   "cell_type": "code",
   "execution_count": 9,
   "id": "d9e89cd6-c0f3-46df-b74c-6420c7af1e81",
   "metadata": {},
   "outputs": [
    {
     "name": "stdout",
     "output_type": "stream",
     "text": [
      "Temperatures in Celsius: [0, 20, 37, 100]\n",
      "Temperatures in Fahrenheit: [32.0, 68.0, 98.6, 212.0]\n"
     ]
    }
   ],
   "source": [
    "def celsius_to_fahrenheit(celsius):\n",
    "    return (celsius * 9/5) + 32\n",
    "\n",
    "celsius_temperatures = [0, 20, 37, 100]\n",
    "fahrenheit_temperatures = list(map(celsius_to_fahrenheit, celsius_temperatures))\n",
    "\n",
    "print(f\"Temperatures in Celsius: {celsius_temperatures}\")\n",
    "print(f\"Temperatures in Fahrenheit: {fahrenheit_temperatures}\")\n"
   ]
  },
  {
   "cell_type": "markdown",
   "id": "ed9d04ae-07a7-4118-b6a1-cd4f87f2b5e3",
   "metadata": {},
   "source": [
    "Q10) . Create a Python program that uses `filter()` to remove all the vowels from a given string.\n",
    "\n",
    "Ans) "
   ]
  },
  {
   "cell_type": "code",
   "execution_count": 12,
   "id": "13688b4f-1577-4953-91ac-46a48bdb00ec",
   "metadata": {},
   "outputs": [
    {
     "name": "stdout",
     "output_type": "stream",
     "text": [
      "Original string: Hello, World!\n",
      "String without vowels: Hll, Wrld!\n"
     ]
    }
   ],
   "source": [
    "def is_not_vowel(char):\n",
    "    vowels = 'aeiouAEIOU'\n",
    "    return char not in vowels\n",
    "\n",
    "input_string = \"Hello, World!\"\n",
    "result_string = ''.join(filter(is_not_vowel, input_string))\n",
    "\n",
    "print(f\"Original string: {input_string}\")\n",
    "print(f\"String without vowels: {result_string}\")\n"
   ]
  },
  {
   "cell_type": "markdown",
   "id": "f8120472-b19e-4be7-b93c-acf2d57dff04",
   "metadata": {},
   "source": [
    "Q11)  Imagine an accounting routine used in a book shop. It works on a list with sublists, which look like this:\n",
    "\n",
    "\n",
    "Order Number            Book Title and Author                      Quality Price           Per Item\n",
    "\n",
    "34587                   Learning Python, Mark Lutz                  4                        40.95\n",
    "\n",
    "98762                   Programming Python, Mark Lutz               5                        56.80\n",
    "\n",
    "77226                   Head First Python, Paul Barry               3                        32.95\n",
    "\n",
    "88112                   Einfuhrung in Python3, Bernd Klein          3                        24.99\n",
    "\n",
    "\n",
    "\n",
    "Write a Python program, which returns a list with 2-tuples. Each tuple consists of the order number and the\n",
    "product of the price per item and the quantity. The product should be increased by 10,- € if the value of the\n",
    "order is smaller than 100,00 €.\n",
    "\n",
    "Write a Python program using lambda and map.\n",
    "\n",
    "\n",
    "Ans) "
   ]
  },
  {
   "cell_type": "code",
   "execution_count": 16,
   "id": "4c937af4-569c-4d21-b398-509e41f4f593",
   "metadata": {},
   "outputs": [
    {
     "name": "stdout",
     "output_type": "stream",
     "text": [
      "[(34587, 163.8), (98762, 284.0), (77226, 108.85000000000001), (88112, 84.97)]\n"
     ]
    }
   ],
   "source": [
    "orders = [\n",
    "    [34587, \"Learning Python, Mark Lutz\", 4, 40.95],\n",
    "    [98762, \"Programming Python, Mark Lutz\", 5, 56.80],\n",
    "    [77226, \"Head First Python, Paul Barry\", 3, 32.95],\n",
    "    [88112, \"Einfuhrung in Python3, Bernd Klein\", 3, 24.99]\n",
    "]\n",
    "\n",
    "result = list(map(lambda order: (order[0], order[2] * order[3] + 10 if order[2] * order[3] < 100 else order[2] * order[3]), orders))\n",
    "\n",
    "print(result)\n"
   ]
  },
  {
   "cell_type": "code",
   "execution_count": null,
   "id": "249864ef-0eb9-4a27-9fb2-e5d177df5e9d",
   "metadata": {},
   "outputs": [],
   "source": []
  }
 ],
 "metadata": {
  "kernelspec": {
   "display_name": "Python 3 (ipykernel)",
   "language": "python",
   "name": "python3"
  },
  "language_info": {
   "codemirror_mode": {
    "name": "ipython",
    "version": 3
   },
   "file_extension": ".py",
   "mimetype": "text/x-python",
   "name": "python",
   "nbconvert_exporter": "python",
   "pygments_lexer": "ipython3",
   "version": "3.12.4"
  }
 },
 "nbformat": 4,
 "nbformat_minor": 5
}
